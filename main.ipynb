{
 "cells": [
  {
   "cell_type": "markdown",
   "metadata": {},
   "source": [
    "Dependencies\n"
   ]
  },
  {
   "cell_type": "code",
   "execution_count": 3,
   "metadata": {},
   "outputs": [],
   "source": [
    "%%capture\n",
    "!pip install --upgrade numpy pandas CBFV \n",
    "\n",
    "# You may need to restart the kernel to use the updated packages."
   ]
  },
  {
   "cell_type": "markdown",
   "metadata": {},
   "source": [
    "Model"
   ]
  },
  {
   "cell_type": "code",
   "execution_count": 1,
   "metadata": {},
   "outputs": [
    {
     "name": "stdout",
     "output_type": "stream",
     "text": [
      "Type: Uncertain, Lambda: 0.987 ± 0.03\n"
     ]
    }
   ],
   "source": [
    "def determine_type_and_lambda(x):\n",
    "    \"\"\"\n",
    "    Determines the type and lambda value based on the given x value.\n",
    "    \n",
    "    :param x: The value to check against the conditions.\n",
    "    :return: A tuple containing the type and a tuple with the central value of lambda and its uncertainty.\n",
    "    \"\"\"\n",
    "    # Determine type\n",
    "    if x < 0.697:\n",
    "        type_value = 'B19\\''\n",
    "        central_lambda = 1.0333 * x + 0.2512\n",
    "        uncertainty = 0.0175\n",
    "    elif x > 0.700:\n",
    "        type_value = 'B19'\n",
    "        central_lambda = 1.0333 * x + 0.2752\n",
    "        uncertainty = 0.0175\n",
    "    else:\n",
    "        type_value = 'Uncertain'\n",
    "        central_lambda = 1.0333 * x + 0.2632\n",
    "        uncertainty = 0.0300\n",
    "    \n",
    "    # Return a tuple with the type and a tuple of (central_lambda, uncertainty)\n",
    "    return type_value, (round(central_lambda,3), uncertainty)\n",
    "\n",
    "# Example usage:\n",
    "x_value = 0.70  # Example value, replace with the desired input\n",
    "type_and_lambda = determine_type_and_lambda(x_value)\n",
    "print(f\"Type: {type_and_lambda[0]}, Lambda: {type_and_lambda[1][0]} ± {type_and_lambda[1][1]}\")\n"
   ]
  },
  {
   "cell_type": "markdown",
   "metadata": {},
   "source": [
    "Import and Versions\n"
   ]
  },
  {
   "cell_type": "code",
   "execution_count": 4,
   "metadata": {},
   "outputs": [
    {
     "name": "stdout",
     "output_type": "stream",
     "text": [
      "Python version: 3.11.5 | packaged by conda-forge | (main, Aug 27 2023, 03:23:48) [MSC v.1936 64 bit (AMD64)]\n",
      "NumPy version: 1.25.2\n",
      "pandas version: 2.0.3\n",
      "CBFV version: 1.1.0\n"
     ]
    }
   ],
   "source": [
    "import sys\n",
    "from importlib.metadata import version\n",
    "from sma_analyzer import Lambda2Calculator, FeatureGenerator, DataHandler\n",
    "\n",
    "\n",
    "print(\"Python version: \" + sys.version)\n",
    "print(\"NumPy version: {}\".format(version(\"numpy\")))\n",
    "print(\"pandas version: {}\".format(version(\"pandas\")))\n",
    "print(\"CBFV version: {}\".format(version(\"CBFV\")))"
   ]
  },
  {
   "cell_type": "markdown",
   "metadata": {},
   "source": [
    "Calculate $\\lambda_2$ for B2 &rarr; B19/B19' transformation of NiTi shape memory alloys\n"
   ]
  },
  {
   "cell_type": "code",
   "execution_count": 5,
   "metadata": {},
   "outputs": [
    {
     "data": {
      "text/html": [
       "<div>\n",
       "<style scoped>\n",
       "    .dataframe tbody tr th:only-of-type {\n",
       "        vertical-align: middle;\n",
       "    }\n",
       "\n",
       "    .dataframe tbody tr th {\n",
       "        vertical-align: top;\n",
       "    }\n",
       "\n",
       "    .dataframe thead th {\n",
       "        text-align: right;\n",
       "    }\n",
       "</style>\n",
       "<table border=\"1\" class=\"dataframe\">\n",
       "  <thead>\n",
       "    <tr style=\"text-align: right;\">\n",
       "      <th></th>\n",
       "      <th>a0</th>\n",
       "      <th>a</th>\n",
       "      <th>b</th>\n",
       "      <th>c</th>\n",
       "      <th>beta</th>\n",
       "      <th>lambda2</th>\n",
       "    </tr>\n",
       "  </thead>\n",
       "  <tbody>\n",
       "    <tr>\n",
       "      <th>0</th>\n",
       "      <td>3.06</td>\n",
       "      <td>3.01</td>\n",
       "      <td>4.11</td>\n",
       "      <td>4.78</td>\n",
       "      <td>101.2</td>\n",
       "      <td>0.949741</td>\n",
       "    </tr>\n",
       "  </tbody>\n",
       "</table>\n",
       "</div>"
      ],
      "text/plain": [
       "     a0     a     b     c   beta   lambda2\n",
       "0  3.06  3.01  4.11  4.78  101.2  0.949741"
      ]
     },
     "execution_count": 5,
     "metadata": {},
     "output_type": "execute_result"
    }
   ],
   "source": [
    "data = {\"a0\": [3.060], \"a\": [3.010], \"b\": [\n",
    "    4.110], \"c\": [4.780], \"beta\": [101.200]}\n",
    "comp_df = DataHandler(data).generate_dataframe()\n",
    "comp_df = Lambda2Calculator(comp_df).generate_lambda2()\n",
    "comp_df"
   ]
  },
  {
   "cell_type": "markdown",
   "metadata": {},
   "source": [
    "Generate dev_mol_vol_mult_mp feature\n"
   ]
  },
  {
   "cell_type": "code",
   "execution_count": 6,
   "metadata": {},
   "outputs": [
    {
     "name": "stderr",
     "output_type": "stream",
     "text": [
      "Processing Input Data: 100%|██████████| 1/1 [00:00<?, ?it/s]\n"
     ]
    },
    {
     "name": "stdout",
     "output_type": "stream",
     "text": [
      "\tFeaturizing Compositions...\n"
     ]
    },
    {
     "name": "stderr",
     "output_type": "stream",
     "text": [
      "Assigning Features...: 100%|██████████| 1/1 [00:00<00:00, 998.17it/s]"
     ]
    },
    {
     "name": "stdout",
     "output_type": "stream",
     "text": [
      "\tCreating Pandas Objects...\n"
     ]
    },
    {
     "name": "stderr",
     "output_type": "stream",
     "text": [
      "\n"
     ]
    },
    {
     "data": {
      "text/html": [
       "<div>\n",
       "<style scoped>\n",
       "    .dataframe tbody tr th:only-of-type {\n",
       "        vertical-align: middle;\n",
       "    }\n",
       "\n",
       "    .dataframe tbody tr th {\n",
       "        vertical-align: top;\n",
       "    }\n",
       "\n",
       "    .dataframe thead th {\n",
       "        text-align: right;\n",
       "    }\n",
       "</style>\n",
       "<table border=\"1\" class=\"dataframe\">\n",
       "  <thead>\n",
       "    <tr style=\"text-align: right;\">\n",
       "      <th></th>\n",
       "      <th>Ni</th>\n",
       "      <th>Ti</th>\n",
       "      <th>Hf</th>\n",
       "      <th>Cu</th>\n",
       "      <th>composition</th>\n",
       "      <th>formula</th>\n",
       "      <th>Alloy System</th>\n",
       "      <th>dev_mol_vol_mult_mp</th>\n",
       "    </tr>\n",
       "  </thead>\n",
       "  <tbody>\n",
       "    <tr>\n",
       "      <th>0</th>\n",
       "      <td>45.3</td>\n",
       "      <td>29.7</td>\n",
       "      <td>20.0</td>\n",
       "      <td>5.0</td>\n",
       "      <td>Ni45.3Ti29.7Hf20.0Cu5.0</td>\n",
       "      <td>Ni453Ti297Hf200Cu50</td>\n",
       "      <td>NiTiHfCu</td>\n",
       "      <td>7339.675947</td>\n",
       "    </tr>\n",
       "  </tbody>\n",
       "</table>\n",
       "</div>"
      ],
      "text/plain": [
       "     Ni    Ti    Hf   Cu              composition              formula  \\\n",
       "0  45.3  29.7  20.0  5.0  Ni45.3Ti29.7Hf20.0Cu5.0  Ni453Ti297Hf200Cu50   \n",
       "\n",
       "  Alloy System  dev_mol_vol_mult_mp  \n",
       "0     NiTiHfCu          7339.675947  "
      ]
     },
     "execution_count": 6,
     "metadata": {},
     "output_type": "execute_result"
    }
   ],
   "source": [
    "data = {\"Ni\": [45.3], \"Ti\": [29.7], \"Hf\": [20.0], \"Cu\": [5.0]}\n",
    "comp_df = DataHandler(data).generate_dataframe()\n",
    "\n",
    "analyzer = FeatureGenerator(comp_df)\n",
    "comp_df = analyzer.generate_composition_formula()\n",
    "comp_df = analyzer.generate_alloy_system()\n",
    "comp_df = analyzer.generate_features()\n",
    "comp_df"
   ]
  }
 ],
 "metadata": {
  "kernelspec": {
   "display_name": "mlnewenv",
   "language": "python",
   "name": "python3"
  },
  "language_info": {
   "codemirror_mode": {
    "name": "ipython",
    "version": 3
   },
   "file_extension": ".py",
   "mimetype": "text/x-python",
   "name": "python",
   "nbconvert_exporter": "python",
   "pygments_lexer": "ipython3",
   "version": "3.11.5"
  },
  "orig_nbformat": 4
 },
 "nbformat": 4,
 "nbformat_minor": 2
}
