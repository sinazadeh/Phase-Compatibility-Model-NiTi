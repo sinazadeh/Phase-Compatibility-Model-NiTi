{
 "cells": [
  {
   "cell_type": "markdown",
   "metadata": {},
   "source": [
    "Imports"
   ]
  },
  {
   "cell_type": "code",
   "execution_count": 3,
   "metadata": {},
   "outputs": [
    {
     "name": "stdout",
     "output_type": "stream",
     "text": [
      "Python version: 3.12.7 | packaged by conda-forge | (main, Oct  4 2024, 15:47:54) [MSC v.1941 64 bit (AMD64)]\n",
      "NumPy version: 1.26.4\n",
      "pandas version: 2.2.2\n",
      "CBFV version: 1.1.0\n"
     ]
    }
   ],
   "source": [
    "import sys\n",
    "from importlib.metadata import version\n",
    "from helper import LambdaCalculator, FeatureGenerator, DataHandler, Lambda2Model\n",
    "\n",
    "\n",
    "print(\"Python version: \" + sys.version)\n",
    "print(\"NumPy version: {}\".format(version(\"numpy\")))\n",
    "print(\"pandas version: {}\".format(version(\"pandas\")))\n",
    "print(\"CBFV version: {}\".format(version(\"CBFV\")))"
   ]
  },
  {
   "cell_type": "markdown",
   "metadata": {},
   "source": [
    "Calculate $\\lambda_1$, $\\lambda_2$, and $\\lambda_3$ for B2 &rarr; B19/B19' transformation of NiTi shape memory alloys\n"
   ]
  },
  {
   "cell_type": "code",
   "execution_count": 4,
   "metadata": {},
   "outputs": [
    {
     "data": {
      "text/html": [
       "<div>\n",
       "<style scoped>\n",
       "    .dataframe tbody tr th:only-of-type {\n",
       "        vertical-align: middle;\n",
       "    }\n",
       "\n",
       "    .dataframe tbody tr th {\n",
       "        vertical-align: top;\n",
       "    }\n",
       "\n",
       "    .dataframe thead th {\n",
       "        text-align: right;\n",
       "    }\n",
       "</style>\n",
       "<table border=\"1\" class=\"dataframe\">\n",
       "  <thead>\n",
       "    <tr style=\"text-align: right;\">\n",
       "      <th></th>\n",
       "      <th>a0 (A)</th>\n",
       "      <th>a (A)</th>\n",
       "      <th>b (A)</th>\n",
       "      <th>c (A)</th>\n",
       "      <th>beta</th>\n",
       "      <th>lambda1_calculated</th>\n",
       "      <th>lambda2_calculated</th>\n",
       "      <th>lambda3_calculated</th>\n",
       "    </tr>\n",
       "  </thead>\n",
       "  <tbody>\n",
       "    <tr>\n",
       "      <th>0</th>\n",
       "      <td>3.1431</td>\n",
       "      <td>3.10992</td>\n",
       "      <td>4.14056</td>\n",
       "      <td>4.88988</td>\n",
       "      <td>100.493</td>\n",
       "      <td>0.930119</td>\n",
       "      <td>0.931506</td>\n",
       "      <td>1.150677</td>\n",
       "    </tr>\n",
       "  </tbody>\n",
       "</table>\n",
       "</div>"
      ],
      "text/plain": [
       "   a0 (A)    a (A)    b (A)    c (A)     beta  lambda1_calculated  \\\n",
       "0  3.1431  3.10992  4.14056  4.88988  100.493            0.930119   \n",
       "\n",
       "   lambda2_calculated  lambda3_calculated  \n",
       "0            0.931506            1.150677  "
      ]
     },
     "execution_count": 4,
     "metadata": {},
     "output_type": "execute_result"
    }
   ],
   "source": [
    "data = {\n",
    "    \"a0 (A)\": [3.1431],\n",
    "    \"a (A)\": [3.10992],\n",
    "    \"b (A)\": [4.14056],\n",
    "    \"c (A)\": [4.88988],\n",
    "    \"beta\": [100.493],\n",
    "}\n",
    "df = DataHandler(data).generate_dataframe()\n",
    "LambdaCalculator(df).generate_lambdas()"
   ]
  },
  {
   "cell_type": "markdown",
   "metadata": {},
   "source": [
    "Generate compositional features"
   ]
  },
  {
   "cell_type": "code",
   "execution_count": 5,
   "metadata": {},
   "outputs": [
    {
     "data": {
      "text/html": [
       "<div>\n",
       "<style scoped>\n",
       "    .dataframe tbody tr th:only-of-type {\n",
       "        vertical-align: middle;\n",
       "    }\n",
       "\n",
       "    .dataframe tbody tr th {\n",
       "        vertical-align: top;\n",
       "    }\n",
       "\n",
       "    .dataframe thead th {\n",
       "        text-align: right;\n",
       "    }\n",
       "</style>\n",
       "<table border=\"1\" class=\"dataframe\">\n",
       "  <thead>\n",
       "    <tr style=\"text-align: right;\">\n",
       "      <th></th>\n",
       "      <th>composition</th>\n",
       "      <th>formula</th>\n",
       "      <th>Alloy_System</th>\n",
       "      <th>jarvis_avg_first_ion_en_divi_voro_coord</th>\n",
       "      <th>jarvis_dev_mol_vol</th>\n",
       "      <th>hea_Delta</th>\n",
       "      <th>jarvis_avg_first_ion_en</th>\n",
       "      <th>jarvis_avg_voro_coord</th>\n",
       "      <th>jarvis_avg_atom_mass</th>\n",
       "      <th>jarvis_avg_mol_vol</th>\n",
       "    </tr>\n",
       "  </thead>\n",
       "  <tbody>\n",
       "    <tr>\n",
       "      <th>0</th>\n",
       "      <td>Cu8.0Hf27.0Ni41.9Ti23.1</td>\n",
       "      <td>Cu80Hf270Ni419Ti231</td>\n",
       "      <td>NiTiHfCu</td>\n",
       "      <td>0.647085</td>\n",
       "      <td>2.737797</td>\n",
       "      <td>10.83</td>\n",
       "      <td>7.239251</td>\n",
       "      <td>11.307</td>\n",
       "      <td>88.925792</td>\n",
       "      <td>9.41665</td>\n",
       "    </tr>\n",
       "  </tbody>\n",
       "</table>\n",
       "</div>"
      ],
      "text/plain": [
       "               composition              formula Alloy_System  \\\n",
       "0  Cu8.0Hf27.0Ni41.9Ti23.1  Cu80Hf270Ni419Ti231     NiTiHfCu   \n",
       "\n",
       "   jarvis_avg_first_ion_en_divi_voro_coord  jarvis_dev_mol_vol hea_Delta  \\\n",
       "0                                 0.647085            2.737797     10.83   \n",
       "\n",
       "   jarvis_avg_first_ion_en  jarvis_avg_voro_coord  jarvis_avg_atom_mass  \\\n",
       "0                 7.239251                 11.307             88.925792   \n",
       "\n",
       "   jarvis_avg_mol_vol  \n",
       "0             9.41665  "
      ]
     },
     "execution_count": 5,
     "metadata": {},
     "output_type": "execute_result"
    }
   ],
   "source": [
    "data = {\"Cu\": [8], \"Hf\": [27], \"Ni\": [41.9], \"Ti\": [23.1]}\n",
    "\n",
    "df = DataHandler(data).generate_dataframe()\n",
    "analyzer = FeatureGenerator(df)\n",
    "comp_df = analyzer.generate_composition_formula()\n",
    "comp_df = analyzer.generate_features()\n",
    "comp_df"
   ]
  },
  {
   "cell_type": "markdown",
   "metadata": {},
   "source": [
    "Model for estimating the value of $\\lambda_2$ and identifying the type of transformation"
   ]
  },
  {
   "cell_type": "code",
   "execution_count": 6,
   "metadata": {},
   "outputs": [
    {
     "data": {
      "text/html": [
       "<div>\n",
       "<style scoped>\n",
       "    .dataframe tbody tr th:only-of-type {\n",
       "        vertical-align: middle;\n",
       "    }\n",
       "\n",
       "    .dataframe tbody tr th {\n",
       "        vertical-align: top;\n",
       "    }\n",
       "\n",
       "    .dataframe thead th {\n",
       "        text-align: right;\n",
       "    }\n",
       "</style>\n",
       "<table border=\"1\" class=\"dataframe\">\n",
       "  <thead>\n",
       "    <tr style=\"text-align: right;\">\n",
       "      <th></th>\n",
       "      <th>composition</th>\n",
       "      <th>Alloy_System</th>\n",
       "      <th>jarvis_avg_first_ion_en_divi_voro_coord</th>\n",
       "      <th>Predicted_Transformation_Type</th>\n",
       "      <th>Predicted_Lambda2</th>\n",
       "    </tr>\n",
       "  </thead>\n",
       "  <tbody>\n",
       "    <tr>\n",
       "      <th>0</th>\n",
       "      <td>Cu8.0Hf27.0Ni41.9Ti23.1</td>\n",
       "      <td>NiTiHfCu</td>\n",
       "      <td>0.647085</td>\n",
       "      <td>B19'</td>\n",
       "      <td>0.92</td>\n",
       "    </tr>\n",
       "  </tbody>\n",
       "</table>\n",
       "</div>"
      ],
      "text/plain": [
       "               composition Alloy_System  \\\n",
       "0  Cu8.0Hf27.0Ni41.9Ti23.1     NiTiHfCu   \n",
       "\n",
       "   jarvis_avg_first_ion_en_divi_voro_coord Predicted_Transformation_Type  \\\n",
       "0                                 0.647085                          B19'   \n",
       "\n",
       "   Predicted_Lambda2  \n",
       "0               0.92  "
      ]
     },
     "execution_count": 6,
     "metadata": {},
     "output_type": "execute_result"
    }
   ],
   "source": [
    "model = Lambda2Model(comp_df)\n",
    "prediction_df = model.predict_transformation_and_lambda2()\n",
    "prediction_df"
   ]
  }
 ],
 "metadata": {
  "kernelspec": {
   "display_name": "ml_envs",
   "language": "python",
   "name": "python3"
  },
  "language_info": {
   "codemirror_mode": {
    "name": "ipython",
    "version": 3
   },
   "file_extension": ".py",
   "mimetype": "text/x-python",
   "name": "python",
   "nbconvert_exporter": "python",
   "pygments_lexer": "ipython3",
   "version": "3.12.7"
  },
  "orig_nbformat": 4
 },
 "nbformat": 4,
 "nbformat_minor": 2
}
